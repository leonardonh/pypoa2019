{
 "cells": [
  {
   "cell_type": "markdown",
   "metadata": {},
   "source": [
    "### Import libraries"
   ]
  },
  {
   "cell_type": "code",
   "execution_count": 624,
   "metadata": {},
   "outputs": [],
   "source": [
    "import warnings\n",
    "warnings.filterwarnings(\"ignore\")\n",
    "import pandas as pd\n",
    "import numpy as np\n",
    "import os\n",
    "import nltk\n",
    "from stop_words import get_stop_words\n",
    "import string\n",
    "from gensim import corpora, models\n",
    "from stemming.porter2 import stem"
   ]
  },
  {
   "cell_type": "markdown",
   "metadata": {},
   "source": [
    "### Import data"
   ]
  },
  {
   "cell_type": "code",
   "execution_count": 632,
   "metadata": {},
   "outputs": [],
   "source": [
    "data = pd.read_excel('dados_ufrgs_raw.xlsx')"
   ]
  },
  {
   "cell_type": "markdown",
   "metadata": {},
   "source": [
    "### Data Cleansing"
   ]
  },
  {
   "cell_type": "code",
   "execution_count": 634,
   "metadata": {},
   "outputs": [],
   "source": [
    "ufrgs = data.copy()"
   ]
  },
  {
   "cell_type": "code",
   "execution_count": 635,
   "metadata": {},
   "outputs": [],
   "source": [
    "ufrgs[['abstract1','abstract2','abstract3','abstract4','abstract5','abstract6','abstract7']] = ufrgs['dc.description.abstract'].str.split('&;', expand=True)"
   ]
  },
  {
   "cell_type": "code",
   "execution_count": 636,
   "metadata": {},
   "outputs": [],
   "source": [
    "ufrgs[['abstract1','language1']] = ufrgs['abstract1'].str.split('@;', expand=True)\n",
    "ufrgs[['abstract2','language2']] = ufrgs['abstract2'].str.split('@;', expand=True)\n",
    "ufrgs[['abstract3','language3']] = ufrgs['abstract3'].str.split('@;', expand=True)\n",
    "ufrgs[['abstract4','language4']] = ufrgs['abstract4'].str.split('@;', expand=True)\n",
    "ufrgs[['abstract5','language5']] = ufrgs['abstract5'].str.split('@;', expand=True)\n",
    "ufrgs[['abstract6','language6']] = ufrgs['abstract6'].str.split('@;', expand=True)"
   ]
  },
  {
   "cell_type": "code",
   "execution_count": 637,
   "metadata": {},
   "outputs": [],
   "source": [
    "ufrgs.index = range(ufrgs.shape[0])"
   ]
  },
  {
   "cell_type": "code",
   "execution_count": 638,
   "metadata": {},
   "outputs": [],
   "source": [
    "ufrgs['abstract'] = 0\n",
    "for i in range(ufrgs.shape[0]):\n",
    "    for h in range(1,7):\n",
    "        if (ufrgs.loc[ufrgs.index==i,['language'+str(h)]].values[0][0] == 'pt_BR') or (ufrgs.loc[ufrgs.index==i,['language'+str(h)]].values[0][0] == 'pt'):\n",
    "            ufrgs.loc[ufrgs.index==i,['abstract']] = ufrgs.loc[ufrgs.index==i,['abstract'+str(h)]].values[0][0]"
   ]
  },
  {
   "cell_type": "code",
   "execution_count": 642,
   "metadata": {},
   "outputs": [],
   "source": [
    "ufrgs = ufrgs.loc[(ufrgs.abstract != 0) & (ufrgs.abstract != 'Resumo não disponível')]"
   ]
  },
  {
   "cell_type": "code",
   "execution_count": 645,
   "metadata": {},
   "outputs": [],
   "source": [
    "for column in ufrgs.columns.values:\n",
    "     ufrgs[column] = ufrgs[column].str.split('&;', expand = True)[0].str.split('@;', expand = True)[0]"
   ]
  },
  {
   "cell_type": "code",
   "execution_count": 646,
   "metadata": {},
   "outputs": [],
   "source": [
    "ufrgs = ufrgs[['abstract','dc.title','dc.degree.graduation','dc.date.issued','dc.contributor.author','dc.identifier.uri']]"
   ]
  },
  {
   "cell_type": "code",
   "execution_count": null,
   "metadata": {},
   "outputs": [],
   "source": [
    "ufrgs.to_excel('dados_ufrgs_clean_.xlsx', index = False)"
   ]
  }
 ],
 "metadata": {
  "kernelspec": {
   "display_name": "Python 3",
   "language": "python",
   "name": "python3"
  },
  "language_info": {
   "codemirror_mode": {
    "name": "ipython",
    "version": 3
   },
   "file_extension": ".py",
   "mimetype": "text/x-python",
   "name": "python",
   "nbconvert_exporter": "python",
   "pygments_lexer": "ipython3",
   "version": "3.7.3"
  }
 },
 "nbformat": 4,
 "nbformat_minor": 2
}
